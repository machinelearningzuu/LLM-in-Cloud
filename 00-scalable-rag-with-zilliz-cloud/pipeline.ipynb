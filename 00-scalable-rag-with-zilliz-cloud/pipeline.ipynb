{
 "cells": [
  {
   "cell_type": "code",
   "execution_count": 7,
   "metadata": {},
   "outputs": [],
   "source": [
    "import yaml, os\n",
    "from llama_index.llms import AzureOpenAI, OpenAI\n",
    "from llama_index.llm_predictor import LLMPredictor\n",
    "from llama_index import set_global_service_context\n",
    "from llama_index.embeddings import HuggingFaceEmbedding\n",
    "from llama_index.text_splitter import TokenTextSplitter\n",
    "from llama_index.indices import ZillizCloudPipelineIndex\n",
    "from llama_index.vector_stores.types import ExactMatchFilter, MetadataFilters\n",
    "from llama_index import ServiceContext, load_index_from_storage, StorageContext"
   ]
  },
  {
   "cell_type": "markdown",
   "metadata": {},
   "source": [
    "## Architecture\n",
    "![alt text](https://miro.medium.com/v2/resize:fit:720/format:webp/1*erE3lOZr_WSBaf6NmTP6hQ.jpeg)"
   ]
  },
  {
   "cell_type": "markdown",
   "metadata": {},
   "source": [
    "## Configure LLMs / VDB Clouds"
   ]
  },
  {
   "cell_type": "code",
   "execution_count": 2,
   "metadata": {},
   "outputs": [],
   "source": [
    "with open('/Users/1zuu/Desktop/LLM RESEARCH/LLM in Cloud/cadentials.yaml') as f:\n",
    "    credentials = yaml.load(f, Loader=yaml.FullLoader)\n",
    "\n",
    "# os.environ['OPENAI_API_KEY'] = credentials['OPENAI_API_KEY']"
   ]
  },
  {
   "cell_type": "code",
   "execution_count": 3,
   "metadata": {},
   "outputs": [],
   "source": [
    "llm_flag = 'DIRECT'\n",
    "\n",
    "embedding_llm = HuggingFaceEmbedding(\n",
    "                                    model_name=\"BAAI/bge-large-en-v1.5\",\n",
    "                                    device='mps'\n",
    "                                    )\n",
    "\n",
    "if llm_flag == 'AZURE':\n",
    "    llm=AzureOpenAI(\n",
    "                    model=credentials['AZURE_ENGINE'],\n",
    "                    api_key=credentials['AZURE_OPENAI_API_KEY'],\n",
    "                    deployment_name=credentials['AZURE_DEPLOYMENT_ID'],\n",
    "                    api_version=credentials['AZURE_OPENAI_API_VERSION'],\n",
    "                    azure_endpoint=credentials['AZURE_OPENAI_API_BASE'],\n",
    "                    temperature=0.3\n",
    "                    )\n",
    "    \n",
    "    chat_llm = LLMPredictor(llm)\n",
    "else:\n",
    "    chat_llm = OpenAI(\n",
    "                    api_key=credentials['OPENAI_API_KEY'],\n",
    "                    temperature=0.3\n",
    "                    )\n",
    "\n",
    "text_splitter = TokenTextSplitter(\n",
    "                                separator=\" \",\n",
    "                                chunk_size=1024,\n",
    "                                chunk_overlap=20,\n",
    "                                backup_separators=[\"\\n\"]\n",
    "                                )\n",
    "\n",
    "if llm_flag == 'AZURE':\n",
    "    service_context = ServiceContext.from_defaults(\n",
    "                                                    text_splitter=text_splitter,\n",
    "                                                    # prompt_helper=prompt_helper,\n",
    "                                                    embed_model=embedding_llm,\n",
    "                                                    llm_predictor=chat_llm\n",
    "                                                    )\n",
    "else:\n",
    "    service_context = ServiceContext.from_defaults(\n",
    "                                                    text_splitter=text_splitter,\n",
    "                                                    # prompt_helper=prompt_helper,\n",
    "                                                    embed_model=embedding_llm,\n",
    "                                                    llm=chat_llm\n",
    "                                                    )\n",
    "\n",
    "set_global_service_context(service_context)"
   ]
  },
  {
   "cell_type": "code",
   "execution_count": 5,
   "metadata": {},
   "outputs": [
    {
     "name": "stdout",
     "output_type": "stream",
     "text": [
      "Index already exists\n"
     ]
    }
   ],
   "source": [
    "zcp_index = ZillizCloudPipelineIndex(\n",
    "                                    project_id=credentials['ZILLIZ_PROJECT_ID'],\n",
    "                                    cluster_id=credentials['ZILLIZ_CLUSTER_ID'],\n",
    "                                    token=credentials['ZILLIZ_API_KEY'],\n",
    "                                    )\n",
    "\n",
    "try:\n",
    "    zcp_index.create_pipelines(\n",
    "                                metadata_schema={\n",
    "                                                \"user_id\": \"VarChar\", \n",
    "                                                \"version\": \"VarChar\"\n",
    "                                                }\n",
    "                                )\n",
    "    print('Index created')\n",
    "except:\n",
    "    print('Index already exists')\n",
    "    pass"
   ]
  },
  {
   "cell_type": "markdown",
   "metadata": {},
   "source": [
    "## Ingest Documents"
   ]
  },
  {
   "cell_type": "code",
   "execution_count": 6,
   "metadata": {},
   "outputs": [
    {
     "data": {
      "text/plain": [
       "{'token_usage': 984, 'doc_name': 'milvus_doc_22.md', 'num_chunks': 7}"
      ]
     },
     "execution_count": 6,
     "metadata": {},
     "output_type": "execute_result"
    }
   ],
   "source": [
    "# user1 ingests a document, it is technical documentation for v2.3 version. \n",
    "zcp_index.insert_doc_url(\n",
    "                        url=\"https://publicdataset.zillizcloud.com/milvus_doc.md\",\n",
    "                        metadata={\n",
    "                                \"user_id\": \"user1\", \n",
    "                                \"version\": \"2.3\"\n",
    "                                },\n",
    "                        )\n",
    "\n",
    "# user2 ingests a document, it is technical documentation for v2.2 version. \n",
    "zcp_index.insert_doc_url(\n",
    "                        url=\"https://publicdataset.zillizcloud.com/milvus_doc_22.md\",\n",
    "                        metadata={\n",
    "                                \"user_id\": \"user2\", \n",
    "                                \"version\": \"2.2\"\n",
    "                                },\n",
    "                        )"
   ]
  },
  {
   "cell_type": "markdown",
   "metadata": {},
   "source": [
    "## Query"
   ]
  },
  {
   "cell_type": "code",
   "execution_count": 9,
   "metadata": {},
   "outputs": [
    {
     "name": "stdout",
     "output_type": "stream",
     "text": [
      "Yes, users can delete entities by complex boolean expressions.\n"
     ]
    }
   ],
   "source": [
    "\"\"\"\n",
    "The chatbot will only answer with the retrieved information from user1's documents\n",
    "\"\"\"\n",
    "\n",
    "query_engine_for_user1 = zcp_index.as_query_engine(\n",
    "                                                    search_top_k=3,\n",
    "                                                    filters=MetadataFilters(\n",
    "                                                                            filters=[\n",
    "                                                                                    ExactMatchFilter(\n",
    "                                                                                                    key=\"user_id\", \n",
    "                                                                                                    value=\"user1\"\n",
    "                                                                                                    )\n",
    "                                                                                    ]  # The query would only search from documents of user1.\n",
    "                                                                            ),\n",
    "                                                    output_metadata=[\n",
    "                                                                    \"user_id\", \n",
    "                                                                    \"version\"\n",
    "                                                                    ], # output these tags together with document text\n",
    "                                                    )\n",
    "\n",
    "question = \"Can users delete entities by complex boolean expressions?\"\n",
    "answer = query_engine_for_user1.query(question)\n",
    "print(answer)"
   ]
  },
  {
   "cell_type": "code",
   "execution_count": null,
   "metadata": {},
   "outputs": [],
   "source": []
  }
 ],
 "metadata": {
  "kernelspec": {
   "display_name": "llamaindex",
   "language": "python",
   "name": "python3"
  },
  "language_info": {
   "codemirror_mode": {
    "name": "ipython",
    "version": 3
   },
   "file_extension": ".py",
   "mimetype": "text/x-python",
   "name": "python",
   "nbconvert_exporter": "python",
   "pygments_lexer": "ipython3",
   "version": "3.9.18"
  }
 },
 "nbformat": 4,
 "nbformat_minor": 2
}
